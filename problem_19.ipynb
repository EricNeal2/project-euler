{
 "cells": [
  {
   "cell_type": "markdown",
   "id": "8b42abab",
   "metadata": {},
   "source": [
    "## [Problem 19](https://projecteuler.net/problem=19): Counting Sundays\n",
    "\n",
    "You are given the following information, but you may prefer to do some research for yourself.\n",
    "\n",
    "1 Jan 1900 was a Monday.\n",
    "\n",
    "Thirty days has September,\n",
    "April, June and November.\n",
    "All the rest have thirty-one,\n",
    "Saving February alone,\n",
    "Which has twenty-eight, rain or shine.\n",
    "And on leap years, twenty-nine.\n",
    "\n",
    "A leap year occurs on any year evenly divisible by 4, but not on a century unless it is divisible by 400.\n",
    "How many Sundays fell on the first of the month during the twentieth century (1 Jan 1901 to 31 Dec 2000)?"
   ]
  },
  {
   "cell_type": "markdown",
   "id": "db0f08e9",
   "metadata": {},
   "source": [
    "First I will create some functions. One will determine if a year is a leap year, and the other will determine the number of days in a given month:"
   ]
  },
  {
   "cell_type": "code",
   "execution_count": 1,
   "id": "bebcbba3",
   "metadata": {},
   "outputs": [
    {
     "name": "stdout",
     "output_type": "stream",
     "text": [
      "False\n",
      "True\n",
      "True\n",
      "True\n",
      "False\n"
     ]
    }
   ],
   "source": [
    "def is_leap_year(year):\n",
    "    '''Return if a given year is a leap year'''\n",
    "    if year % 400 == 0:\n",
    "        return True\n",
    "    if year % 100 == 0:\n",
    "        return False\n",
    "    if year % 4 == 0:\n",
    "        return True\n",
    "    return False\n",
    "    \n",
    "print(is_leap_year(1900))\n",
    "print(is_leap_year(1904))\n",
    "print(is_leap_year(2000))\n",
    "print(is_leap_year(1996))\n",
    "print(is_leap_year(1967))"
   ]
  },
  {
   "cell_type": "code",
   "execution_count": 2,
   "id": "933ad673",
   "metadata": {},
   "outputs": [
    {
     "name": "stdout",
     "output_type": "stream",
     "text": [
      "31\n",
      "29\n",
      "31\n",
      "30\n",
      "31\n",
      "30\n",
      "31\n",
      "31\n",
      "30\n",
      "31\n",
      "30\n",
      "31\n"
     ]
    }
   ],
   "source": [
    "def days_in_month(month, leap_year):\n",
    "    '''Return the number of days in a month'''\n",
    "    \n",
    "    # 30 days has September, April, June, and November\n",
    "    if month in [4,6,9,11]:\n",
    "        return 30\n",
    "    \n",
    "    # except for February\n",
    "    if month == 2:\n",
    "        if leap_year:\n",
    "            return 29\n",
    "        else:\n",
    "            return 28\n",
    "        \n",
    "    # all the rest have 31\n",
    "    else:\n",
    "        return 31\n",
    "    \n",
    "\n",
    "for i in range(1,13):\n",
    "    print(days_in_month(i,True))\n",
    "    "
   ]
  },
  {
   "cell_type": "markdown",
   "id": "9264426a",
   "metadata": {},
   "source": [
    "Before I calculate it exactly, I know that there are about 52 weeks in a year, so over 100 years there should be approximately 5200 Sundays. If there are about 30 days in each month, then about 1 30th of them will fall on the first of the month (approximately 173).\n",
    "\n",
    "Now I will loop through all the Sundays, and count how many of them fall on the first of the month."
   ]
  },
  {
   "cell_type": "code",
   "execution_count": 3,
   "id": "02294e70",
   "metadata": {},
   "outputs": [
    {
     "name": "stdout",
     "output_type": "stream",
     "text": [
      "171\n"
     ]
    }
   ],
   "source": [
    "# Jan 1 1900 is a Monday, so Jan 6 1900 is the first Sunday\n",
    "day = 6\n",
    "month = 1\n",
    "year = 1900\n",
    "\n",
    "sunday_on_first_count = 0 # Jan 6 is not the first of the month\n",
    "\n",
    "while year <= 2000:\n",
    "\n",
    "    # jump ahead 7 days\n",
    "    day += 7\n",
    "    \n",
    "    # if this puts us in a new month\n",
    "    if day > days_in_month(month, is_leap_year(year)):\n",
    "        day -= days_in_month(month, is_leap_year(year)) # reset day\n",
    "        month += 1\n",
    "        \n",
    "        # if this puts us in a new year\n",
    "        if month > 12:\n",
    "            month = 1 # reset month\n",
    "            year += 1\n",
    "    \n",
    "    # if the sunday is in the century and on the first of the month\n",
    "    if 2000 >= year >= 1901 and day == 1:\n",
    "        sunday_on_first_count += 1\n",
    "        \n",
    "print(sunday_on_first_count)"
   ]
  }
 ],
 "metadata": {
  "kernelspec": {
   "display_name": "Python 3 (ipykernel)",
   "language": "python",
   "name": "python3"
  },
  "language_info": {
   "codemirror_mode": {
    "name": "ipython",
    "version": 3
   },
   "file_extension": ".py",
   "mimetype": "text/x-python",
   "name": "python",
   "nbconvert_exporter": "python",
   "pygments_lexer": "ipython3",
   "version": "3.9.12"
  }
 },
 "nbformat": 4,
 "nbformat_minor": 5
}
