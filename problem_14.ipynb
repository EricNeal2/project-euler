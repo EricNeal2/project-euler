{
 "cells": [
  {
   "cell_type": "markdown",
   "id": "e4bc557c",
   "metadata": {},
   "source": [
    "## [Problem 14](https://projecteuler.net/problem=14): Longest Collatz sequence\n",
    "\n",
    "The following iterative sequence is defined for the set of positive integers:\n",
    "\n",
    "n → n/2 (n is even)\\\n",
    "n → 3n + 1 (n is odd)\n",
    "\n",
    "Using the rule above and starting with 13, we generate the following sequence:\n",
    "\n",
    "13 → 40 → 20 → 10 → 5 → 16 → 8 → 4 → 2 → 1\n",
    "\n",
    "It can be seen that this sequence (starting at 13 and finishing at 1) contains 10 terms. Although it has not been proved yet (Collatz Problem), it is thought that all starting numbers finish at 1.\n",
    "\n",
    "Which starting number, under one million, produces the longest chain?\n",
    "\n",
    "NOTE: Once the chain starts the terms are allowed to go above one million."
   ]
  },
  {
   "cell_type": "code",
   "execution_count": 1,
   "id": "ec43ee2f",
   "metadata": {},
   "outputs": [],
   "source": [
    "def next_collatz_term(current_term):\n",
    "    '''Returns the next term in the Collatz sequence'''\n",
    "    if current_term % 2 == 0:\n",
    "        return int(current_term / 2)\n",
    "    else:\n",
    "        return 3*current_term + 1"
   ]
  },
  {
   "cell_type": "code",
   "execution_count": 2,
   "id": "2addd2fa",
   "metadata": {},
   "outputs": [
    {
     "name": "stdout",
     "output_type": "stream",
     "text": [
      "10\n"
     ]
    }
   ],
   "source": [
    "def collatz_sequence_length(starting_num):\n",
    "    num = starting_num\n",
    "    chain_length = 1\n",
    "    while num != 1:\n",
    "        num = next_collatz_term(num)\n",
    "        chain_length += 1\n",
    "    return chain_length\n",
    "\n",
    "print(collatz_sequence_length(13))"
   ]
  },
  {
   "cell_type": "markdown",
   "id": "74d6ce4e",
   "metadata": {},
   "source": [
    "Now I need to check every starting number under a million:"
   ]
  },
  {
   "cell_type": "code",
   "execution_count": 3,
   "id": "4126f9c6",
   "metadata": {},
   "outputs": [
    {
     "name": "stdout",
     "output_type": "stream",
     "text": [
      "525\n",
      "837799\n",
      "CPU times: total: 2min 41s\n",
      "Wall time: 2min 42s\n"
     ]
    }
   ],
   "source": [
    "%%time\n",
    "longest_chain = 0\n",
    "num_with_longest_chain = 0\n",
    "\n",
    "for num in range(2,1000000):\n",
    "    chain_length = collatz_sequence_length(num)\n",
    "    if chain_length > longest_chain:\n",
    "        longest_chain = chain_length\n",
    "        num_with_longest_chain = num\n",
    "\n",
    "print(longest_chain)\n",
    "print(num_with_longest_chain)"
   ]
  },
  {
   "cell_type": "markdown",
   "id": "eecd4a61",
   "metadata": {},
   "source": [
    "This process takes too long. I will create a dictionary where the keys are starting numbers and the values are their collatz chain lengths. Then I can modify the `collatz_sequence_length()` function to check this dictionary every time it generates the next term in the sequence to avoid unecessary computation."
   ]
  },
  {
   "cell_type": "code",
   "execution_count": 4,
   "id": "ae69d5d6",
   "metadata": {},
   "outputs": [],
   "source": [
    "def collatz_sequence_length_upgraded(starting_num, collatz_dict):\n",
    "    num = starting_num\n",
    "    chain_length = 1\n",
    "    while num != 1:\n",
    "        num = next_collatz_term(num)\n",
    "        \n",
    "        if num in collatz_dict:\n",
    "            # just add that chain length to our current chain length\n",
    "            chain_length += collatz_dict[num]\n",
    "            # add the chain length for this starting num to the dict\n",
    "            collatz_dict[starting_num] = chain_length\n",
    "            # return the chain length for this starting num\n",
    "            return chain_length , collatz_dict\n",
    "        \n",
    "        chain_length += 1\n",
    "        \n",
    "    # add this number to the dic\n",
    "    collatz_dict[starting_num] = chain_length\n",
    "    \n",
    "    return chain_length, collatz_dict"
   ]
  },
  {
   "cell_type": "code",
   "execution_count": 5,
   "id": "cda03d8a",
   "metadata": {},
   "outputs": [
    {
     "name": "stdout",
     "output_type": "stream",
     "text": [
      "525\n",
      "837799\n",
      "CPU times: total: 8.59 s\n",
      "Wall time: 8.59 s\n"
     ]
    }
   ],
   "source": [
    "%%time\n",
    "longest_chain = 0\n",
    "num_with_longest_chain = 0\n",
    "collatz_dict = {}\n",
    "\n",
    "for num in range(2,1000000):\n",
    "    chain_length, collatz_dict = collatz_sequence_length_upgraded(num, collatz_dict)\n",
    "    if chain_length > longest_chain:\n",
    "        longest_chain = chain_length\n",
    "        num_with_longest_chain = num\n",
    "\n",
    "print(longest_chain)\n",
    "print(num_with_longest_chain)"
   ]
  },
  {
   "cell_type": "markdown",
   "id": "d8c27691",
   "metadata": {},
   "source": [
    "This method was much faster!"
   ]
  }
 ],
 "metadata": {
  "kernelspec": {
   "display_name": "Python 3 (ipykernel)",
   "language": "python",
   "name": "python3"
  },
  "language_info": {
   "codemirror_mode": {
    "name": "ipython",
    "version": 3
   },
   "file_extension": ".py",
   "mimetype": "text/x-python",
   "name": "python",
   "nbconvert_exporter": "python",
   "pygments_lexer": "ipython3",
   "version": "3.9.12"
  }
 },
 "nbformat": 4,
 "nbformat_minor": 5
}
