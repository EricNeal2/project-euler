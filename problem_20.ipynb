{
 "cells": [
  {
   "cell_type": "markdown",
   "id": "46890095",
   "metadata": {},
   "source": [
    "## [Problem 20](https://projecteuler.net/problem=20): Factorial digit sum\n",
    "\n",
    "n! means n × (n − 1) × ... × 3 × 2 × 1\n",
    "\n",
    "For example, 10! = 10 × 9 × ... × 3 × 2 × 1 = 3628800,\n",
    "and the sum of the digits in the number 10! is 3 + 6 + 2 + 8 + 8 + 0 + 0 = 27.\n",
    "\n",
    "Find the sum of the digits in the number 100!"
   ]
  },
  {
   "cell_type": "markdown",
   "id": "8b7f67bb",
   "metadata": {},
   "source": [
    "First I will write a function to compute the factorial of a given number:"
   ]
  },
  {
   "cell_type": "code",
   "execution_count": 1,
   "id": "32cb572b",
   "metadata": {},
   "outputs": [
    {
     "name": "stdout",
     "output_type": "stream",
     "text": [
      "3628800\n"
     ]
    }
   ],
   "source": [
    "def compute_factorial(n):\n",
    "    '''Compute the factorial of the whole number n'''\n",
    "    total = 1\n",
    "    for i in range(n,1,-1):\n",
    "        total *= i\n",
    "    return total\n",
    "        \n",
    "print(compute_factorial(10))"
   ]
  },
  {
   "cell_type": "markdown",
   "id": "907b3312",
   "metadata": {},
   "source": [
    "I will also save this function in my helpers.py file, as I expect more factorial problems will likely come up.\n",
    "\n",
    "Now I can write a function that takes the factorial of a number, converts it to a string, creates a list where each element is a digit, converts each element back to an integer, then sums up the elements of the list:"
   ]
  },
  {
   "cell_type": "code",
   "execution_count": 2,
   "id": "ab52f623",
   "metadata": {},
   "outputs": [
    {
     "name": "stdout",
     "output_type": "stream",
     "text": [
      "27\n",
      "648\n"
     ]
    }
   ],
   "source": [
    "def sum_of_factorial_digits(n):\n",
    "    return sum([int(digit) for digit in str(compute_factorial(n))])\n",
    "    \n",
    "print(sum_of_factorial_digits(10))\n",
    "print(sum_of_factorial_digits(100))"
   ]
  }
 ],
 "metadata": {
  "kernelspec": {
   "display_name": "Python 3 (ipykernel)",
   "language": "python",
   "name": "python3"
  },
  "language_info": {
   "codemirror_mode": {
    "name": "ipython",
    "version": 3
   },
   "file_extension": ".py",
   "mimetype": "text/x-python",
   "name": "python",
   "nbconvert_exporter": "python",
   "pygments_lexer": "ipython3",
   "version": "3.9.12"
  }
 },
 "nbformat": 4,
 "nbformat_minor": 5
}
