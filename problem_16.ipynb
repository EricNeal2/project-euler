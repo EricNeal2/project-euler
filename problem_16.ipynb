{
 "cells": [
  {
   "cell_type": "markdown",
   "id": "a4f95639",
   "metadata": {},
   "source": [
    "## [Problem 16](https://projecteuler.net/problem=16): Power digit sum\n",
    "\n",
    "2<sup>15</sup> = 32768 and the sum of its digits is 3 + 2 + 7 + 6 + 8 = 26.\n",
    "\n",
    "What is the sum of the digits of the number 2<sup>1000</sup>?"
   ]
  },
  {
   "cell_type": "code",
   "execution_count": 1,
   "id": "dc64931f",
   "metadata": {},
   "outputs": [
    {
     "name": "stdout",
     "output_type": "stream",
     "text": [
      "1366\n"
     ]
    }
   ],
   "source": [
    "print(sum([int(digit) for digit in list(str(2**1000))]))"
   ]
  },
  {
   "cell_type": "markdown",
   "id": "6524c525",
   "metadata": {},
   "source": [
    "Convert the number to a string, then a list where each element is one digit, then convert each element back to an integer and sum up the list."
   ]
  }
 ],
 "metadata": {
  "kernelspec": {
   "display_name": "Python 3 (ipykernel)",
   "language": "python",
   "name": "python3"
  },
  "language_info": {
   "codemirror_mode": {
    "name": "ipython",
    "version": 3
   },
   "file_extension": ".py",
   "mimetype": "text/x-python",
   "name": "python",
   "nbconvert_exporter": "python",
   "pygments_lexer": "ipython3",
   "version": "3.9.12"
  }
 },
 "nbformat": 4,
 "nbformat_minor": 5
}
