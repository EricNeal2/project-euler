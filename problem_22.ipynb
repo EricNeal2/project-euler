{
 "cells": [
  {
   "cell_type": "markdown",
   "id": "d015821b",
   "metadata": {},
   "source": [
    "## [Problem 22](https://projecteuler.net/problem=22): Names Scores\n",
    "\n",
    "Using names.txt (right click and 'Save Link/Target As...'), a 46K text file containing over five-thousand first names, begin by sorting it into alphabetical order. Then working out the alphabetical value for each name, multiply this value by its alphabetical position in the list to obtain a name score.\n",
    "\n",
    "For example, when the list is sorted into alphabetical order, COLIN, which is worth 3 + 15 + 12 + 9 + 14 = 53, is the 938th name in the list. So, COLIN would obtain a score of 938 × 53 = 49714.\n",
    "\n",
    "What is the total of all the name scores in the file?"
   ]
  },
  {
   "cell_type": "code",
   "execution_count": 1,
   "id": "8c532437",
   "metadata": {},
   "outputs": [],
   "source": [
    "import pandas as pd"
   ]
  },
  {
   "cell_type": "markdown",
   "id": "fa6ff997",
   "metadata": {},
   "source": [
    "Read the names in as a pandas series:"
   ]
  },
  {
   "cell_type": "code",
   "execution_count": 2,
   "id": "dde8287c",
   "metadata": {},
   "outputs": [
    {
     "name": "stdout",
     "output_type": "stream",
     "text": [
      "<class 'pandas.core.series.Series'>\n",
      "Int64Index: 5163 entries, 0 to 5162\n",
      "Series name: 0\n",
      "Non-Null Count  Dtype \n",
      "--------------  ----- \n",
      "5162 non-null   object\n",
      "dtypes: object(1)\n",
      "memory usage: 80.7+ KB\n",
      "None\n",
      "0         MARY\n",
      "1     PATRICIA\n",
      "2        LINDA\n",
      "3      BARBARA\n",
      "4    ELIZABETH\n",
      "Name: 0, dtype: object\n",
      "5158        ELDEN\n",
      "5159       DORSEY\n",
      "5160       DARELL\n",
      "5161    BRODERICK\n",
      "5162       ALONSO\n",
      "Name: 0, dtype: object\n"
     ]
    }
   ],
   "source": [
    "names = pd.read_csv('names.txt', header=None, sep=',').squeeze(\"rows\")\n",
    "\n",
    "print(names.info())\n",
    "print(names.head())\n",
    "print(names.tail())"
   ]
  },
  {
   "cell_type": "markdown",
   "id": "8c3eae6b",
   "metadata": {},
   "source": [
    "There appears to be a null value. I will explore this further:"
   ]
  },
  {
   "cell_type": "code",
   "execution_count": 3,
   "id": "4e92dc4d",
   "metadata": {},
   "outputs": [
    {
     "name": "stdout",
     "output_type": "stream",
     "text": [
      "3302    NaN\n",
      "Name: 0, dtype: object\n"
     ]
    }
   ],
   "source": [
    "print(names[names.isna()])"
   ]
  },
  {
   "cell_type": "code",
   "execution_count": 4,
   "id": "5a789ea5",
   "metadata": {
    "scrolled": false
   },
   "outputs": [
    {
     "name": "stdout",
     "output_type": "stream",
     "text": [
      "3301      OLENE\n",
      "3302        NaN\n",
      "3303    MERRILL\n",
      "Name: 0, dtype: object\n"
     ]
    }
   ],
   "source": [
    "print(names.loc[3301:3303])"
   ]
  },
  {
   "cell_type": "markdown",
   "id": "66585a90",
   "metadata": {},
   "source": [
    "Upon inspection, the null value actually is a name - the name \"NA\". I will replace the null with the correct name."
   ]
  },
  {
   "cell_type": "code",
   "execution_count": 5,
   "id": "e0d91d63",
   "metadata": {},
   "outputs": [],
   "source": [
    "names.loc[3302] = \"NA\""
   ]
  },
  {
   "cell_type": "markdown",
   "id": "26147a79",
   "metadata": {},
   "source": [
    "Now I will sort the names in alphabetical order."
   ]
  },
  {
   "cell_type": "code",
   "execution_count": 6,
   "id": "7421646a",
   "metadata": {},
   "outputs": [
    {
     "name": "stdout",
     "output_type": "stream",
     "text": [
      "<class 'pandas.core.series.Series'>\n",
      "RangeIndex: 5163 entries, 0 to 5162\n",
      "Series name: 0\n",
      "Non-Null Count  Dtype \n",
      "--------------  ----- \n",
      "5163 non-null   object\n",
      "dtypes: object(1)\n",
      "memory usage: 40.5+ KB\n",
      "None\n",
      "0    AARON\n",
      "1    ABBEY\n",
      "2    ABBIE\n",
      "3     ABBY\n",
      "4    ABDUL\n",
      "Name: 0, dtype: object\n",
      "5158       ZORA\n",
      "5159    ZORAIDA\n",
      "5160       ZULA\n",
      "5161     ZULEMA\n",
      "5162      ZULMA\n",
      "Name: 0, dtype: object\n"
     ]
    }
   ],
   "source": [
    "names.sort_values(inplace=True, ignore_index=True)\n",
    "\n",
    "print(names.info())\n",
    "print(names.head())\n",
    "print(names.tail())"
   ]
  },
  {
   "cell_type": "markdown",
   "id": "0b902789",
   "metadata": {},
   "source": [
    "Next I will write a function that will calculate the alphabetical score of a given name:"
   ]
  },
  {
   "cell_type": "code",
   "execution_count": 7,
   "id": "a32ff24a",
   "metadata": {},
   "outputs": [
    {
     "name": "stdout",
     "output_type": "stream",
     "text": [
      "27\n",
      "53\n",
      "133\n"
     ]
    }
   ],
   "source": [
    "letter_values = {'A': 1,\n",
    "                 'B': 2,\n",
    "                 'C': 3,\n",
    "                 'D': 4,\n",
    "                 'E': 5,\n",
    "                 'F': 6,\n",
    "                 'G': 7,\n",
    "                 'H': 8,\n",
    "                 'I': 9,\n",
    "                 'J': 10,\n",
    "                 'K': 11,\n",
    "                 'L': 12,\n",
    "                 'M': 13,\n",
    "                 'N': 14,\n",
    "                 'O': 15,\n",
    "                 'P': 16,\n",
    "                 'Q': 17,\n",
    "                 'R': 18,\n",
    "                 'S': 19,\n",
    "                 'T': 20,\n",
    "                 'U': 21,\n",
    "                 'V': 22,\n",
    "                 'W': 23,\n",
    "                 'X': 24,\n",
    "                 'Y': 25,\n",
    "                 'Z': 26}\n",
    "\n",
    "\n",
    "def alpha_score(name):\n",
    "    '''Compute the alphabetical score of a name, based on the letters in the name'''\n",
    "    score = 0\n",
    "    for letter in name:\n",
    "        score += letter_values[letter.upper()]\n",
    "    return score\n",
    "\n",
    "print(alpha_score('JEFF'))\n",
    "print(alpha_score('COLIN'))\n",
    "print(alpha_score('stevenson'))"
   ]
  },
  {
   "cell_type": "markdown",
   "id": "ddd9a969",
   "metadata": {},
   "source": [
    "Now I will create a dataframe from the names:"
   ]
  },
  {
   "cell_type": "code",
   "execution_count": 8,
   "id": "bb296859",
   "metadata": {},
   "outputs": [
    {
     "data": {
      "text/html": [
       "<div>\n",
       "<style scoped>\n",
       "    .dataframe tbody tr th:only-of-type {\n",
       "        vertical-align: middle;\n",
       "    }\n",
       "\n",
       "    .dataframe tbody tr th {\n",
       "        vertical-align: top;\n",
       "    }\n",
       "\n",
       "    .dataframe thead th {\n",
       "        text-align: right;\n",
       "    }\n",
       "</style>\n",
       "<table border=\"1\" class=\"dataframe\">\n",
       "  <thead>\n",
       "    <tr style=\"text-align: right;\">\n",
       "      <th></th>\n",
       "      <th>name</th>\n",
       "    </tr>\n",
       "  </thead>\n",
       "  <tbody>\n",
       "    <tr>\n",
       "      <th>0</th>\n",
       "      <td>AARON</td>\n",
       "    </tr>\n",
       "    <tr>\n",
       "      <th>1</th>\n",
       "      <td>ABBEY</td>\n",
       "    </tr>\n",
       "    <tr>\n",
       "      <th>2</th>\n",
       "      <td>ABBIE</td>\n",
       "    </tr>\n",
       "    <tr>\n",
       "      <th>3</th>\n",
       "      <td>ABBY</td>\n",
       "    </tr>\n",
       "    <tr>\n",
       "      <th>4</th>\n",
       "      <td>ABDUL</td>\n",
       "    </tr>\n",
       "    <tr>\n",
       "      <th>...</th>\n",
       "      <td>...</td>\n",
       "    </tr>\n",
       "    <tr>\n",
       "      <th>5158</th>\n",
       "      <td>ZORA</td>\n",
       "    </tr>\n",
       "    <tr>\n",
       "      <th>5159</th>\n",
       "      <td>ZORAIDA</td>\n",
       "    </tr>\n",
       "    <tr>\n",
       "      <th>5160</th>\n",
       "      <td>ZULA</td>\n",
       "    </tr>\n",
       "    <tr>\n",
       "      <th>5161</th>\n",
       "      <td>ZULEMA</td>\n",
       "    </tr>\n",
       "    <tr>\n",
       "      <th>5162</th>\n",
       "      <td>ZULMA</td>\n",
       "    </tr>\n",
       "  </tbody>\n",
       "</table>\n",
       "<p>5163 rows × 1 columns</p>\n",
       "</div>"
      ],
      "text/plain": [
       "         name\n",
       "0       AARON\n",
       "1       ABBEY\n",
       "2       ABBIE\n",
       "3        ABBY\n",
       "4       ABDUL\n",
       "...       ...\n",
       "5158     ZORA\n",
       "5159  ZORAIDA\n",
       "5160     ZULA\n",
       "5161   ZULEMA\n",
       "5162    ZULMA\n",
       "\n",
       "[5163 rows x 1 columns]"
      ]
     },
     "execution_count": 8,
     "metadata": {},
     "output_type": "execute_result"
    }
   ],
   "source": [
    "names_df = pd.DataFrame(names)\n",
    "names_df.columns = ['name']\n",
    "names_df"
   ]
  },
  {
   "cell_type": "markdown",
   "id": "a1953312",
   "metadata": {},
   "source": [
    "Next, compute the alphabetical score of each name:"
   ]
  },
  {
   "cell_type": "code",
   "execution_count": 9,
   "id": "dbc77e18",
   "metadata": {},
   "outputs": [
    {
     "data": {
      "text/html": [
       "<div>\n",
       "<style scoped>\n",
       "    .dataframe tbody tr th:only-of-type {\n",
       "        vertical-align: middle;\n",
       "    }\n",
       "\n",
       "    .dataframe tbody tr th {\n",
       "        vertical-align: top;\n",
       "    }\n",
       "\n",
       "    .dataframe thead th {\n",
       "        text-align: right;\n",
       "    }\n",
       "</style>\n",
       "<table border=\"1\" class=\"dataframe\">\n",
       "  <thead>\n",
       "    <tr style=\"text-align: right;\">\n",
       "      <th></th>\n",
       "      <th>name</th>\n",
       "      <th>alpha_score</th>\n",
       "    </tr>\n",
       "  </thead>\n",
       "  <tbody>\n",
       "    <tr>\n",
       "      <th>0</th>\n",
       "      <td>AARON</td>\n",
       "      <td>49</td>\n",
       "    </tr>\n",
       "    <tr>\n",
       "      <th>1</th>\n",
       "      <td>ABBEY</td>\n",
       "      <td>35</td>\n",
       "    </tr>\n",
       "    <tr>\n",
       "      <th>2</th>\n",
       "      <td>ABBIE</td>\n",
       "      <td>19</td>\n",
       "    </tr>\n",
       "    <tr>\n",
       "      <th>3</th>\n",
       "      <td>ABBY</td>\n",
       "      <td>30</td>\n",
       "    </tr>\n",
       "    <tr>\n",
       "      <th>4</th>\n",
       "      <td>ABDUL</td>\n",
       "      <td>40</td>\n",
       "    </tr>\n",
       "    <tr>\n",
       "      <th>...</th>\n",
       "      <td>...</td>\n",
       "      <td>...</td>\n",
       "    </tr>\n",
       "    <tr>\n",
       "      <th>5158</th>\n",
       "      <td>ZORA</td>\n",
       "      <td>60</td>\n",
       "    </tr>\n",
       "    <tr>\n",
       "      <th>5159</th>\n",
       "      <td>ZORAIDA</td>\n",
       "      <td>74</td>\n",
       "    </tr>\n",
       "    <tr>\n",
       "      <th>5160</th>\n",
       "      <td>ZULA</td>\n",
       "      <td>60</td>\n",
       "    </tr>\n",
       "    <tr>\n",
       "      <th>5161</th>\n",
       "      <td>ZULEMA</td>\n",
       "      <td>78</td>\n",
       "    </tr>\n",
       "    <tr>\n",
       "      <th>5162</th>\n",
       "      <td>ZULMA</td>\n",
       "      <td>73</td>\n",
       "    </tr>\n",
       "  </tbody>\n",
       "</table>\n",
       "<p>5163 rows × 2 columns</p>\n",
       "</div>"
      ],
      "text/plain": [
       "         name  alpha_score\n",
       "0       AARON           49\n",
       "1       ABBEY           35\n",
       "2       ABBIE           19\n",
       "3        ABBY           30\n",
       "4       ABDUL           40\n",
       "...       ...          ...\n",
       "5158     ZORA           60\n",
       "5159  ZORAIDA           74\n",
       "5160     ZULA           60\n",
       "5161   ZULEMA           78\n",
       "5162    ZULMA           73\n",
       "\n",
       "[5163 rows x 2 columns]"
      ]
     },
     "execution_count": 9,
     "metadata": {},
     "output_type": "execute_result"
    }
   ],
   "source": [
    "names_df['alpha_score'] = names_df['name'].apply(alpha_score)\n",
    "names_df"
   ]
  },
  {
   "cell_type": "markdown",
   "id": "e79f08d4",
   "metadata": {},
   "source": [
    "Next, I can use the index of the dataframe and the alphabetical score to calculate the name score for each name:"
   ]
  },
  {
   "cell_type": "code",
   "execution_count": 10,
   "id": "62e23709",
   "metadata": {},
   "outputs": [
    {
     "name": "stdout",
     "output_type": "stream",
     "text": [
      "      name  alpha_score  name_score\n",
      "937  COLIN           53       49714\n"
     ]
    },
    {
     "data": {
      "text/html": [
       "<div>\n",
       "<style scoped>\n",
       "    .dataframe tbody tr th:only-of-type {\n",
       "        vertical-align: middle;\n",
       "    }\n",
       "\n",
       "    .dataframe tbody tr th {\n",
       "        vertical-align: top;\n",
       "    }\n",
       "\n",
       "    .dataframe thead th {\n",
       "        text-align: right;\n",
       "    }\n",
       "</style>\n",
       "<table border=\"1\" class=\"dataframe\">\n",
       "  <thead>\n",
       "    <tr style=\"text-align: right;\">\n",
       "      <th></th>\n",
       "      <th>name</th>\n",
       "      <th>alpha_score</th>\n",
       "      <th>name_score</th>\n",
       "    </tr>\n",
       "  </thead>\n",
       "  <tbody>\n",
       "    <tr>\n",
       "      <th>0</th>\n",
       "      <td>AARON</td>\n",
       "      <td>49</td>\n",
       "      <td>49</td>\n",
       "    </tr>\n",
       "    <tr>\n",
       "      <th>1</th>\n",
       "      <td>ABBEY</td>\n",
       "      <td>35</td>\n",
       "      <td>70</td>\n",
       "    </tr>\n",
       "    <tr>\n",
       "      <th>2</th>\n",
       "      <td>ABBIE</td>\n",
       "      <td>19</td>\n",
       "      <td>57</td>\n",
       "    </tr>\n",
       "    <tr>\n",
       "      <th>3</th>\n",
       "      <td>ABBY</td>\n",
       "      <td>30</td>\n",
       "      <td>120</td>\n",
       "    </tr>\n",
       "    <tr>\n",
       "      <th>4</th>\n",
       "      <td>ABDUL</td>\n",
       "      <td>40</td>\n",
       "      <td>200</td>\n",
       "    </tr>\n",
       "    <tr>\n",
       "      <th>...</th>\n",
       "      <td>...</td>\n",
       "      <td>...</td>\n",
       "      <td>...</td>\n",
       "    </tr>\n",
       "    <tr>\n",
       "      <th>5158</th>\n",
       "      <td>ZORA</td>\n",
       "      <td>60</td>\n",
       "      <td>309540</td>\n",
       "    </tr>\n",
       "    <tr>\n",
       "      <th>5159</th>\n",
       "      <td>ZORAIDA</td>\n",
       "      <td>74</td>\n",
       "      <td>381840</td>\n",
       "    </tr>\n",
       "    <tr>\n",
       "      <th>5160</th>\n",
       "      <td>ZULA</td>\n",
       "      <td>60</td>\n",
       "      <td>309660</td>\n",
       "    </tr>\n",
       "    <tr>\n",
       "      <th>5161</th>\n",
       "      <td>ZULEMA</td>\n",
       "      <td>78</td>\n",
       "      <td>402636</td>\n",
       "    </tr>\n",
       "    <tr>\n",
       "      <th>5162</th>\n",
       "      <td>ZULMA</td>\n",
       "      <td>73</td>\n",
       "      <td>376899</td>\n",
       "    </tr>\n",
       "  </tbody>\n",
       "</table>\n",
       "<p>5163 rows × 3 columns</p>\n",
       "</div>"
      ],
      "text/plain": [
       "         name  alpha_score  name_score\n",
       "0       AARON           49          49\n",
       "1       ABBEY           35          70\n",
       "2       ABBIE           19          57\n",
       "3        ABBY           30         120\n",
       "4       ABDUL           40         200\n",
       "...       ...          ...         ...\n",
       "5158     ZORA           60      309540\n",
       "5159  ZORAIDA           74      381840\n",
       "5160     ZULA           60      309660\n",
       "5161   ZULEMA           78      402636\n",
       "5162    ZULMA           73      376899\n",
       "\n",
       "[5163 rows x 3 columns]"
      ]
     },
     "execution_count": 10,
     "metadata": {},
     "output_type": "execute_result"
    }
   ],
   "source": [
    "names_df['name_score'] = (names_df.index + 1) * names_df['alpha_score']\n",
    "print(names_df[names_df['name'] == 'COLIN'])\n",
    "names_df"
   ]
  },
  {
   "cell_type": "markdown",
   "id": "1ec412b3",
   "metadata": {},
   "source": [
    "Finally, sum up all the name scores!"
   ]
  },
  {
   "cell_type": "code",
   "execution_count": 11,
   "id": "91fe8901",
   "metadata": {},
   "outputs": [
    {
     "data": {
      "text/plain": [
       "871198282"
      ]
     },
     "execution_count": 11,
     "metadata": {},
     "output_type": "execute_result"
    }
   ],
   "source": [
    "names_df['name_score'].sum()"
   ]
  }
 ],
 "metadata": {
  "kernelspec": {
   "display_name": "Python 3 (ipykernel)",
   "language": "python",
   "name": "python3"
  },
  "language_info": {
   "codemirror_mode": {
    "name": "ipython",
    "version": 3
   },
   "file_extension": ".py",
   "mimetype": "text/x-python",
   "name": "python",
   "nbconvert_exporter": "python",
   "pygments_lexer": "ipython3",
   "version": "3.9.12"
  }
 },
 "nbformat": 4,
 "nbformat_minor": 5
}
