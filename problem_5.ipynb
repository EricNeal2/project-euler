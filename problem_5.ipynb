{
 "cells": [
  {
   "cell_type": "markdown",
   "id": "794a0c13",
   "metadata": {},
   "source": [
    "## [Problem 5](https://projecteuler.net/problem=5): Smallest multiple\n",
    "\n",
    "2520 is the smallest number that can be divided by each of the numbers from 1 to 10 without any remainder.\n",
    "\n",
    "What is the smallest positive number that is evenly divisible by all of the numbers from 1 to 20?"
   ]
  },
  {
   "cell_type": "markdown",
   "id": "b249f077",
   "metadata": {},
   "source": [
    "***"
   ]
  },
  {
   "cell_type": "markdown",
   "id": "34cb5426",
   "metadata": {},
   "source": [
    "The number must be a multiple of 2520, so instead of checking every number I can start with 2520 and go up by 2520 each time:"
   ]
  },
  {
   "cell_type": "code",
   "execution_count": 1,
   "id": "2a81e393",
   "metadata": {},
   "outputs": [
    {
     "name": "stdout",
     "output_type": "stream",
     "text": [
      "232792560\n",
      "CPU times: total: 2.81 s\n",
      "Wall time: 2.94 s\n"
     ]
    }
   ],
   "source": [
    "%%time\n",
    "from helpers import is_multiple\n",
    "\n",
    "factor_list = [i for i in range(1,21)]\n",
    "\n",
    "num = 2520  # first number to check\n",
    "while True:\n",
    "    count = 0  # the number of factors that num is a multiple of\n",
    "    for factor in factor_list:\n",
    "        if is_multiple(num,factor):\n",
    "            count += 1\n",
    "    if count == len(factor_list):  # after the for loop is complete, if every factor is a multiple, we have found the answer\n",
    "        break\n",
    "    # if we didn't find the answer, check the next possible number    \n",
    "    num += 2520\n",
    "    \n",
    "print(num)"
   ]
  },
  {
   "cell_type": "markdown",
   "id": "fc8b5fb8",
   "metadata": {},
   "source": [
    "Instead of checking all 20 factors each time, we can break the for loop if the number is not a multiple of one of the factors."
   ]
  },
  {
   "cell_type": "code",
   "execution_count": 2,
   "id": "4ffc11a1",
   "metadata": {},
   "outputs": [
    {
     "name": "stdout",
     "output_type": "stream",
     "text": [
      "232792560\n",
      "CPU times: total: 1.3 s\n",
      "Wall time: 1.33 s\n"
     ]
    }
   ],
   "source": [
    "%%time\n",
    "from helpers import is_multiple\n",
    "\n",
    "factor_list = [i for i in range(1,21)]\n",
    "\n",
    "num = 2520\n",
    "found = 0 # boolean, have we found the answer yet?\n",
    "\n",
    "while found == 0:\n",
    "    \n",
    "    for factor in factor_list:\n",
    "        if not is_multiple(num,factor):\n",
    "            # if `num` is not a multiple of `factor`, check the next number\n",
    "            num += 2520\n",
    "            break\n",
    "        elif factor == factor_list[-1]:\n",
    "            # if `num` is a multiple, and we are at the end of the list, we have found the answer\n",
    "            found = 1\n",
    "            break\n",
    "    \n",
    "print(num)"
   ]
  },
  {
   "cell_type": "markdown",
   "id": "6dc46aa5",
   "metadata": {},
   "source": [
    "This allowed us to find the answer almost 2x faster."
   ]
  },
  {
   "cell_type": "markdown",
   "id": "f953366f",
   "metadata": {},
   "source": [
    "One more thing to try: Instead of increasing the number by 2520 every time, could I save time by incerasing this number? For example, when I find the lowest number that each number from 1 to 12 is a multiple of, I can use this number, because the answer must be a multiple of this."
   ]
  },
  {
   "cell_type": "code",
   "execution_count": 3,
   "id": "a84335c8",
   "metadata": {
    "scrolled": true
   },
   "outputs": [
    {
     "name": "stdout",
     "output_type": "stream",
     "text": [
      "232792560\n",
      "CPU times: total: 15.6 ms\n",
      "Wall time: 5.03 ms\n"
     ]
    }
   ],
   "source": [
    "%%time\n",
    "from helpers import is_multiple\n",
    "\n",
    "factor_list = [i for i in range(1,21)]\n",
    "\n",
    "num = 2520\n",
    "increase_amount = 2520\n",
    "max_factor = 10 \n",
    "found = 0 # boolean, have we found the answer yet?\n",
    "\n",
    "while found == 0:\n",
    "    \n",
    "    for factor in factor_list:\n",
    "        if not is_multiple(num,factor):\n",
    "            \n",
    "            # how far did we make it?\n",
    "            # if we made it farther than before, update max_factor and increase_amount\n",
    "            if factor - 1 > max_factor:\n",
    "                max_factor = factor\n",
    "                increase_amount = num\n",
    "            \n",
    "            # if `num` is not a multiple of `factor`, check the next number\n",
    "            num += increase_amount\n",
    "            break\n",
    "        elif factor == factor_list[-1]:\n",
    "            # if `num` is a multiple, and we are at the end of the list, we have found the answer\n",
    "            found = 1\n",
    "            break\n",
    "    \n",
    "print(num)"
   ]
  },
  {
   "cell_type": "markdown",
   "id": "90b86314",
   "metadata": {},
   "source": [
    "This method allowed us to find the answer very quickly!!"
   ]
  },
  {
   "cell_type": "markdown",
   "id": "14cc44fa",
   "metadata": {},
   "source": [
    "One more thing - let me take this concept and write more concise code to execute it. Simply have a \"current_answer\" that corresponds to the answer for the current \"num\". Continuously see if \"check_answer\" is a multiple of num+1. If it is not, then add the \"current_answer\" to \"check_answer\" and try again. If it is, then add 1 to num and make the answer we just checked the current answer."
   ]
  },
  {
   "cell_type": "code",
   "execution_count": 4,
   "id": "7db7c1f3",
   "metadata": {},
   "outputs": [
    {
     "name": "stdout",
     "output_type": "stream",
     "text": [
      "232792560\n",
      "CPU times: total: 0 ns\n",
      "Wall time: 0 ns\n"
     ]
    }
   ],
   "source": [
    "%%time\n",
    "from helpers import is_multiple\n",
    "\n",
    "num = 10\n",
    "current_answer = 2520\n",
    "check_answer = 2520\n",
    "\n",
    "while num < 20:\n",
    "    \n",
    "    if is_multiple(check_answer, num+1):\n",
    "        num += 1\n",
    "        current_answer = check_answer\n",
    "    else:\n",
    "        check_answer += current_answer\n",
    "\n",
    "print(current_answer)\n",
    "        "
   ]
  },
  {
   "cell_type": "markdown",
   "id": "0663c786",
   "metadata": {},
   "source": [
    "Finally, this new method is so efficient that there is no need to start at num=10 and a current answer of 2520.\n",
    "\n",
    "The code below will work for any number you need, just change the condition for the while loop."
   ]
  },
  {
   "cell_type": "code",
   "execution_count": 5,
   "id": "6d20a430",
   "metadata": {},
   "outputs": [
    {
     "name": "stdout",
     "output_type": "stream",
     "text": [
      "232792560\n",
      "CPU times: total: 0 ns\n",
      "Wall time: 0 ns\n"
     ]
    }
   ],
   "source": [
    "%%time\n",
    "from helpers import is_multiple\n",
    "\n",
    "num = 1\n",
    "current_answer = 1\n",
    "check_answer = 1\n",
    "\n",
    "while num < 20:\n",
    "    \n",
    "    if is_multiple(check_answer, num+1):\n",
    "        num += 1\n",
    "        current_answer = check_answer\n",
    "    else:\n",
    "        check_answer += current_answer\n",
    "\n",
    "print(current_answer)"
   ]
  }
 ],
 "metadata": {
  "kernelspec": {
   "display_name": "Python 3 (ipykernel)",
   "language": "python",
   "name": "python3"
  },
  "language_info": {
   "codemirror_mode": {
    "name": "ipython",
    "version": 3
   },
   "file_extension": ".py",
   "mimetype": "text/x-python",
   "name": "python",
   "nbconvert_exporter": "python",
   "pygments_lexer": "ipython3",
   "version": "3.9.12"
  }
 },
 "nbformat": 4,
 "nbformat_minor": 5
}
