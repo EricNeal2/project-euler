{
 "cells": [
  {
   "cell_type": "markdown",
   "id": "6d81a21d",
   "metadata": {},
   "source": [
    "## [Problem 25](https://projecteuler.net/problem=24): Lexicographic permutations\n",
    "\n",
    "A permutation is an ordered arrangement of objects. For example, 3124 is one possible permutation of the digits 1, 2, 3 and 4. If all of the permutations are listed numerically or alphabetically, we call it lexicographic order. The lexicographic permutations of 0, 1 and 2 are:\n",
    "\n",
    "012   021   102   120   201   210\n",
    "\n",
    "What is the millionth lexicographic permutation of the digits 0, 1, 2, 3, 4, 5, 6, 7, 8 and 9?"
   ]
  },
  {
   "cell_type": "code",
   "execution_count": 1,
   "id": "d9ca4d34",
   "metadata": {},
   "outputs": [
    {
     "name": "stdout",
     "output_type": "stream",
     "text": [
      "[(0, 1, 2), (0, 2, 1), (1, 0, 2), (1, 2, 0), (2, 0, 1), (2, 1, 0)]\n"
     ]
    }
   ],
   "source": [
    "import itertools\n",
    "\n",
    "print(list(itertools.permutations([0,1,2])))"
   ]
  },
  {
   "cell_type": "code",
   "execution_count": 2,
   "id": "40b62413",
   "metadata": {},
   "outputs": [
    {
     "name": "stdout",
     "output_type": "stream",
     "text": [
      "3628800\n"
     ]
    }
   ],
   "source": [
    "answer_list = list(itertools.permutations([0,1,2,3,4,5,6,7,8,9]))\n",
    "print(len(answer_list))"
   ]
  },
  {
   "cell_type": "code",
   "execution_count": 3,
   "id": "d75d169c",
   "metadata": {},
   "outputs": [
    {
     "data": {
      "text/plain": [
       "[2, 7, 8, 3, 9, 1, 5, 4, 6, 0]"
      ]
     },
     "execution_count": 3,
     "metadata": {},
     "output_type": "execute_result"
    }
   ],
   "source": [
    "list(answer_list[999999])"
   ]
  },
  {
   "cell_type": "code",
   "execution_count": 4,
   "id": "3cf9343c",
   "metadata": {},
   "outputs": [
    {
     "name": "stdout",
     "output_type": "stream",
     "text": [
      "2783915460\n"
     ]
    }
   ],
   "source": [
    "print(''.join([str(digit) for digit in list(answer_list[999999])]))"
   ]
  }
 ],
 "metadata": {
  "kernelspec": {
   "display_name": "Python 3 (ipykernel)",
   "language": "python",
   "name": "python3"
  },
  "language_info": {
   "codemirror_mode": {
    "name": "ipython",
    "version": 3
   },
   "file_extension": ".py",
   "mimetype": "text/x-python",
   "name": "python",
   "nbconvert_exporter": "python",
   "pygments_lexer": "ipython3",
   "version": "3.9.12"
  }
 },
 "nbformat": 4,
 "nbformat_minor": 5
}
