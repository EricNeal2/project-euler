{
 "cells": [
  {
   "cell_type": "markdown",
   "id": "77e6e43f",
   "metadata": {},
   "source": [
    "## [Problem 21](https://projecteuler.net/problem=21): Amicable numbers\n",
    "\n",
    "Let d(n) be defined as the sum of proper divisors of n (numbers less than n which divide evenly into n).\n",
    "If d(a) = b and d(b) = a, where a ≠ b, then a and b are an amicable pair and each of a and b are called amicable numbers.\n",
    "\n",
    "For example, the proper divisors of 220 are 1, 2, 4, 5, 10, 11, 20, 22, 44, 55 and 110; therefore d(220) = 284. The proper divisors of 284 are 1, 2, 4, 71 and 142; so d(284) = 220.\n",
    "\n",
    "Evaluate the sum of all the amicable numbers under 10000."
   ]
  },
  {
   "cell_type": "code",
   "execution_count": 1,
   "id": "71b5b9c3",
   "metadata": {},
   "outputs": [
    {
     "name": "stdout",
     "output_type": "stream",
     "text": [
      "[1, 220, 2, 110, 4, 55, 5, 44, 10, 22, 11, 20]\n",
      "[1, 284, 2, 142, 4, 71]\n"
     ]
    }
   ],
   "source": [
    "from helpers import get_factors\n",
    "\n",
    "print(get_factors(220))\n",
    "print(get_factors(284))"
   ]
  },
  {
   "cell_type": "markdown",
   "id": "1bc2d3e9",
   "metadata": {},
   "source": [
    "The `get_factors` function I have already written returns all the factors, with 1 and the number itself to start. I can simply take out the number iself and I'm left with the proper divisors. To do this I'll sort the list then keep everything but the last element (which will be the number itself)."
   ]
  },
  {
   "cell_type": "code",
   "execution_count": 2,
   "id": "b66964f3",
   "metadata": {},
   "outputs": [
    {
     "name": "stdout",
     "output_type": "stream",
     "text": [
      "[1, 2, 4, 5, 10, 11, 20, 22, 44, 55, 110]\n",
      "[1, 2, 4, 71, 142]\n"
     ]
    }
   ],
   "source": [
    "print(sorted(get_factors(220))[:-1])\n",
    "print(sorted(get_factors(284))[:-1])"
   ]
  },
  {
   "cell_type": "markdown",
   "id": "0a883f71",
   "metadata": {},
   "source": [
    "Now the function `d(n)` simply sums up the list of proper divisors:"
   ]
  },
  {
   "cell_type": "code",
   "execution_count": 3,
   "id": "901f3c65",
   "metadata": {},
   "outputs": [
    {
     "name": "stdout",
     "output_type": "stream",
     "text": [
      "284\n",
      "220\n"
     ]
    }
   ],
   "source": [
    "def d(n):\n",
    "    return sum(sorted(get_factors(n))[:-1])\n",
    "\n",
    "print(d(220))\n",
    "print(d(284))"
   ]
  },
  {
   "cell_type": "markdown",
   "id": "604d2b08",
   "metadata": {},
   "source": [
    "Now I can loop through all the numbers less than 10,000 and see which ones satisfy the criteria to be amicable numbers."
   ]
  },
  {
   "cell_type": "code",
   "execution_count": 4,
   "id": "1bc9e8c9",
   "metadata": {},
   "outputs": [
    {
     "name": "stdout",
     "output_type": "stream",
     "text": [
      "[220, 284, 1184, 1210, 2620, 2924, 5020, 5564, 6232, 6368]\n",
      "31626\n"
     ]
    }
   ],
   "source": [
    "amicable_numbers = []\n",
    "\n",
    "for i in range(10000):\n",
    "    if d(d(i)) == i and i != d(i):\n",
    "        amicable_numbers.append(i)\n",
    "        \n",
    "print(amicable_numbers)\n",
    "print(sum(amicable_numbers))"
   ]
  }
 ],
 "metadata": {
  "kernelspec": {
   "display_name": "Python 3 (ipykernel)",
   "language": "python",
   "name": "python3"
  },
  "language_info": {
   "codemirror_mode": {
    "name": "ipython",
    "version": 3
   },
   "file_extension": ".py",
   "mimetype": "text/x-python",
   "name": "python",
   "nbconvert_exporter": "python",
   "pygments_lexer": "ipython3",
   "version": "3.9.12"
  }
 },
 "nbformat": 4,
 "nbformat_minor": 5
}
