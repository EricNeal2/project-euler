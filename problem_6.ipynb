{
 "cells": [
  {
   "cell_type": "markdown",
   "id": "97fdea1a",
   "metadata": {},
   "source": [
    "## [Problem 6](https://projecteuler.net/problem=6): Sum square difference\n",
    "\n",
    "The sum of the squares of the first ten natural numbers is,\n",
    "\n",
    "1<sup>2</sup> + 2<sup>2</sup> + ... + 10<sup>2</sup> = 385\n",
    "\n",
    "The square of the sum of the first ten natural numbers is,\n",
    "\n",
    "(1 + 2 + ... + 10)<sup>2</sup> = 55<sup>2</sup> = 3025\n",
    "\n",
    "Hence the difference between the sum of the squares of the first ten natural numbers and the square of the sum is 3025 - 385 = 2640.\n",
    "\n",
    "Find the difference between the sum of the squares of the first one hundred natural numbers and the square of the sum."
   ]
  },
  {
   "cell_type": "code",
   "execution_count": 8,
   "id": "ed559794",
   "metadata": {},
   "outputs": [
    {
     "name": "stdout",
     "output_type": "stream",
     "text": [
      "338350\n",
      "25502500\n",
      "---\n",
      "25164150\n"
     ]
    }
   ],
   "source": [
    "sum_of_squares = 0\n",
    "just_the_sum = 0\n",
    "\n",
    "for i in range(101):\n",
    "    sum_of_squares += i**2\n",
    "    just_the_sum += i\n",
    "    \n",
    "square_of_sum = just_the_sum**2\n",
    "\n",
    "print(sum_of_squares)\n",
    "print(square_of_sum)\n",
    "print('---')\n",
    "print(square_of_sum - sum_of_squares)"
   ]
  }
 ],
 "metadata": {
  "kernelspec": {
   "display_name": "Python 3 (ipykernel)",
   "language": "python",
   "name": "python3"
  },
  "language_info": {
   "codemirror_mode": {
    "name": "ipython",
    "version": 3
   },
   "file_extension": ".py",
   "mimetype": "text/x-python",
   "name": "python",
   "nbconvert_exporter": "python",
   "pygments_lexer": "ipython3",
   "version": "3.9.12"
  }
 },
 "nbformat": 4,
 "nbformat_minor": 5
}
