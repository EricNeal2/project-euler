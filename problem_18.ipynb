{
 "cells": [
  {
   "cell_type": "markdown",
   "id": "31319e75",
   "metadata": {},
   "source": [
    "## [Problem 18](https://projecteuler.net/problem=18): Maximum path sum I\n",
    "\n",
    "By starting at the top of the triangle below and moving to adjacent numbers on the row below, the maximum total from top to bottom is 23.\n",
    "\n",
    "<p style=\"text-align: center;\">\n",
    "<b>3</b><br>\n",
    "<b>7</b> 4<br>\n",
    "2 <b>4</b> 6 <br>\n",
    "8 5 <b>9</b> 3<br>\n",
    "</p>\n",
    "\n",
    "\n",
    "\n",
    "That is, 3 + 7 + 4 + 9 = 23.\n",
    "\n",
    "Find the maximum total from top to bottom of the triangle below:\n",
    "\n",
    "<p style=\"text-align: center;\">\n",
    "75<br>\n",
    "95 64<br>\n",
    "17 47 82<br>\n",
    "18 35 87 10<br>\n",
    "20 04 82 47 65<br>\n",
    "19 01 23 75 03 34<br>\n",
    "88 02 77 73 07 63 67<br>\n",
    "99 65 04 28 06 16 70 92<br>\n",
    "41 41 26 56 83 40 80 70 33<br>\n",
    "41 48 72 33 47 32 37 16 94 29<br>\n",
    "53 71 44 65 25 43 91 52 97 51 14<br>\n",
    "70 11 33 28 77 73 17 78 39 68 17 57<br>\n",
    "91 71 52 38 17 14 91 43 58 50 27 29 48<br>\n",
    "63 66 04 68 89 53 67 30 73 16 69 87 40 31<br>\n",
    "04 62 98 27 23 09 70 98 73 93 38 53 60 04 23<br>\n",
    "</p>\n",
    "\n",
    "NOTE: As there are only 16384 routes, it is possible to solve this problem by trying every route. However, Problem 67, is the same challenge with a triangle containing one-hundred rows; it cannot be solved by brute force, and requires a clever method! ;o)"
   ]
  },
  {
   "cell_type": "markdown",
   "id": "6ea0badd",
   "metadata": {},
   "source": [
    "First, I need to laod in this triangle:"
   ]
  },
  {
   "cell_type": "code",
   "execution_count": 1,
   "id": "fcda64d1",
   "metadata": {},
   "outputs": [
    {
     "name": "stdout",
     "output_type": "stream",
     "text": [
      "[75]\n",
      "[95, 64]\n",
      "[17, 47, 82]\n",
      "[18, 35, 87, 10]\n",
      "[20, 4, 82, 47, 65]\n",
      "[19, 1, 23, 75, 3, 34]\n",
      "[88, 2, 77, 73, 7, 63, 67]\n",
      "[99, 65, 4, 28, 6, 16, 70, 92]\n",
      "[41, 41, 26, 56, 83, 40, 80, 70, 33]\n",
      "[41, 48, 72, 33, 47, 32, 37, 16, 94, 29]\n",
      "[53, 71, 44, 65, 25, 43, 91, 52, 97, 51, 14]\n",
      "[70, 11, 33, 28, 77, 73, 17, 78, 39, 68, 17, 57]\n",
      "[91, 71, 52, 38, 17, 14, 91, 43, 58, 50, 27, 29, 48]\n",
      "[63, 66, 4, 68, 89, 53, 67, 30, 73, 16, 69, 87, 40, 31]\n",
      "[4, 62, 98, 27, 23, 9, 70, 98, 73, 93, 38, 53, 60, 4, 23]\n"
     ]
    }
   ],
   "source": [
    "num_str = '75 95 64 17 47 82 18 35 87 10 20 04 82 47 65 19 01 23 75 03 34 88 02 77 73 07 63 67 99 65 04 28 06 16 70 92 41 41 26 56 83 40 80 70 33 41 48 72 33 47 32 37 16 94 29 53 71 44 65 25 43 91 52 97 51 14 70 11 33 28 77 73 17 78 39 68 17 57 91 71 52 38 17 14 91 43 58 50 27 29 48 63 66 04 68 89 53 67 30 73 16 69 87 40 31 04 62 98 27 23 09 70 98 73 93 38 53 60 04 23'\n",
    "num_list = [int(num) for num in num_str.split()]\n",
    "\n",
    "triangle = []\n",
    "for i in range(1, 16):\n",
    "    triangle.append(num_list[:i])\n",
    "    del(num_list[:i])\n",
    "    \n",
    "for row in triangle:\n",
    "    print(row)"
   ]
  },
  {
   "cell_type": "markdown",
   "id": "0aa125a7",
   "metadata": {},
   "source": [
    "I will also use the example triangle to test my function."
   ]
  },
  {
   "cell_type": "code",
   "execution_count": 2,
   "id": "196f5eb9",
   "metadata": {
    "scrolled": true
   },
   "outputs": [
    {
     "name": "stdout",
     "output_type": "stream",
     "text": [
      "[3]\n",
      "[7, 4]\n",
      "[2, 4, 6]\n",
      "[8, 5, 9, 3]\n"
     ]
    }
   ],
   "source": [
    "test_triangle = [[3],[7, 4],[2, 4, 6],[8, 5, 9, 3]]\n",
    "for row in test_triangle:\n",
    "\n",
    "    print(row)"
   ]
  },
  {
   "cell_type": "markdown",
   "id": "93355364",
   "metadata": {},
   "source": [
    "The plan is to take the triangle and create a new triangle that contains the maximum total to get to that point. There are only two ways to get to each point from the rwo above, and only one way for the numbers on the side of the triangle.\n",
    "\n",
    "So I can go down the triangle and for each number, figure out which of the two numbers above it has the greater path sum, and just add that to the number."
   ]
  },
  {
   "cell_type": "code",
   "execution_count": 3,
   "id": "35299323",
   "metadata": {},
   "outputs": [],
   "source": [
    "def max_path_sum(triangle):\n",
    "    # new list to hold the new triangle with the maximum sums\n",
    "    triangle_path_sums = []\n",
    "    \n",
    "    # loop through each row of the triangle\n",
    "    for row_index, row in enumerate(triangle):\n",
    "\n",
    "        # if we are on the first row, just make the top of the triangle, this is the starting point\n",
    "        if row_index == 0:\n",
    "            triangle_path_sums.append(row)\n",
    "\n",
    "        else:\n",
    "            new_row = []  # new row, to add on when complete\n",
    "            \n",
    "            # loop through each value in the row\n",
    "            for i in range(len(row)):\n",
    "\n",
    "                if i == 0: # if it's on the left edge of the traingle, only one way to get there\n",
    "                    new_row.append(row[i] + triangle_path_sums[row_index - 1][i])\n",
    "                \n",
    "                elif i == (len(row)-1): # if it's on the right edge of the traingle, only one way to get there\n",
    "                    new_row.append(row[i] + triangle_path_sums[row_index - 1][i-1])\n",
    "                \n",
    "                else: # if it's not on the edge, calculate which of the two numbers above has the greatest sum\n",
    "                    # this is the numbers stored in the triangle_path_sums list\n",
    "                    max_path = max(row[i] + triangle_path_sums[row_index - 1][i],\n",
    "                                  row[i] + triangle_path_sums[row_index - 1][i-1])\n",
    "                    new_row.append(max_path)\n",
    "\n",
    "            # append the new row onto the new triangle\n",
    "            triangle_path_sums.append(new_row)\n",
    "\n",
    "    # print the triangle of sums\n",
    "    for row in triangle_path_sums:\n",
    "        print(row)\n",
    "    \n",
    "    # print the max path sum\n",
    "    print('Max path sum: {}'.format(max(triangle_path_sums[-1])))"
   ]
  },
  {
   "cell_type": "code",
   "execution_count": 4,
   "id": "4bf19f6e",
   "metadata": {},
   "outputs": [
    {
     "name": "stdout",
     "output_type": "stream",
     "text": [
      "[3]\n",
      "[10, 7]\n",
      "[12, 14, 13]\n",
      "[20, 19, 23, 16]\n",
      "Max path sum: 23\n"
     ]
    }
   ],
   "source": [
    "max_path_sum(test_triangle)"
   ]
  },
  {
   "cell_type": "markdown",
   "id": "d05510ad",
   "metadata": {},
   "source": [
    "It works for the test triangle, now for the big one:"
   ]
  },
  {
   "cell_type": "code",
   "execution_count": 5,
   "id": "fb7d6544",
   "metadata": {},
   "outputs": [
    {
     "name": "stdout",
     "output_type": "stream",
     "text": [
      "[75]\n",
      "[170, 139]\n",
      "[187, 217, 221]\n",
      "[205, 252, 308, 231]\n",
      "[225, 256, 390, 355, 296]\n",
      "[244, 257, 413, 465, 358, 330]\n",
      "[332, 259, 490, 538, 472, 421, 397]\n",
      "[431, 397, 494, 566, 544, 488, 491, 489]\n",
      "[472, 472, 520, 622, 649, 584, 571, 561, 522]\n",
      "[513, 520, 592, 655, 696, 681, 621, 587, 655, 551]\n",
      "[566, 591, 636, 720, 721, 739, 772, 673, 752, 706, 565]\n",
      "[636, 602, 669, 748, 798, 812, 789, 850, 791, 820, 723, 622]\n",
      "[727, 707, 721, 786, 815, 826, 903, 893, 908, 870, 847, 752, 670]\n",
      "[790, 793, 725, 854, 904, 879, 970, 933, 981, 924, 939, 934, 792, 701]\n",
      "[794, 855, 891, 881, 927, 913, 1040, 1068, 1054, 1074, 977, 992, 994, 796, 724]\n",
      "Max path sum: 1074\n"
     ]
    }
   ],
   "source": [
    "max_path_sum(triangle)"
   ]
  }
 ],
 "metadata": {
  "kernelspec": {
   "display_name": "Python 3 (ipykernel)",
   "language": "python",
   "name": "python3"
  },
  "language_info": {
   "codemirror_mode": {
    "name": "ipython",
    "version": 3
   },
   "file_extension": ".py",
   "mimetype": "text/x-python",
   "name": "python",
   "nbconvert_exporter": "python",
   "pygments_lexer": "ipython3",
   "version": "3.9.12"
  }
 },
 "nbformat": 4,
 "nbformat_minor": 5
}
