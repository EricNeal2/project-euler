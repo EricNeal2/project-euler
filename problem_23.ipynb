{
 "cells": [
  {
   "cell_type": "markdown",
   "id": "5cadcd18",
   "metadata": {},
   "source": [
    "## [Problem 23](https://projecteuler.net/problem=23): Non-abundant sums\n",
    "\n",
    "A perfect number is a number for which the sum of its proper divisors is exactly equal to the number. For example, the sum of the proper divisors of 28 would be 1 + 2 + 4 + 7 + 14 = 28, which means that 28 is a perfect number.\n",
    "\n",
    "A number n is called deficient if the sum of its proper divisors is less than n and it is called abundant if this sum exceeds n.\n",
    "\n",
    "As 12 is the smallest abundant number, 1 + 2 + 3 + 4 + 6 = 16, the smallest number that can be written as the sum of two abundant numbers is 24. By mathematical analysis, it can be shown that all integers greater than 28123 can be written as the sum of two abundant numbers. However, this upper limit cannot be reduced any further by analysis even though it is known that the greatest number that cannot be expressed as the sum of two abundant numbers is less than this limit.\n",
    "\n",
    "Find the sum of all the positive integers which cannot be written as the sum of two abundant numbers."
   ]
  },
  {
   "cell_type": "markdown",
   "id": "2b058797",
   "metadata": {},
   "source": [
    "As I did in problem 21, I can import my `get_factors` function and then ignore the number itself. I will write a function to do it this time."
   ]
  },
  {
   "cell_type": "code",
   "execution_count": 1,
   "id": "f3590222",
   "metadata": {},
   "outputs": [
    {
     "name": "stdout",
     "output_type": "stream",
     "text": [
      "[1, 2, 4, 7, 14]\n",
      "[1, 2, 3, 4, 6]\n"
     ]
    }
   ],
   "source": [
    "from helpers import get_factors\n",
    "\n",
    "def get_proper_divisors(num):\n",
    "    return sorted(get_factors(num))[:-1]\n",
    "\n",
    "print(get_proper_divisors(28))\n",
    "print(get_proper_divisors(12))"
   ]
  },
  {
   "cell_type": "markdown",
   "id": "8138d1fa",
   "metadata": {},
   "source": [
    "Now I will write a function to classify a number as abundant, perfect, or deficient:"
   ]
  },
  {
   "cell_type": "code",
   "execution_count": 2,
   "id": "7b878d1f",
   "metadata": {},
   "outputs": [
    {
     "name": "stdout",
     "output_type": "stream",
     "text": [
      "deficient\n",
      "abundant\n",
      "perfect\n"
     ]
    }
   ],
   "source": [
    "def classify_number(num):\n",
    "    '''Classify whether a number is abundant, perfect, or deficient'''\n",
    "    sum_of_proper_divisors = sum(get_proper_divisors(num))\n",
    "    \n",
    "    if sum_of_proper_divisors < num:\n",
    "        return 'deficient'\n",
    "    elif sum_of_proper_divisors > num:\n",
    "        return 'abundant'\n",
    "    else:\n",
    "        return 'perfect'\n",
    "    \n",
    "print(classify_number(7))\n",
    "print(classify_number(12))\n",
    "print(classify_number(28))"
   ]
  },
  {
   "cell_type": "markdown",
   "id": "d4c881c3",
   "metadata": {},
   "source": [
    "Since I really only care about whether a number is abundant or not, I will make a simpler function for this task:"
   ]
  },
  {
   "cell_type": "code",
   "execution_count": 3,
   "id": "7d77819f",
   "metadata": {},
   "outputs": [
    {
     "name": "stdout",
     "output_type": "stream",
     "text": [
      "False\n",
      "True\n",
      "False\n"
     ]
    }
   ],
   "source": [
    "def classify_abundance(num):\n",
    "    '''Return whether a number is abundant'''\n",
    "    return sum(get_proper_divisors(num)) > num\n",
    "\n",
    "print(classify_abundance(7))\n",
    "print(classify_abundance(12))\n",
    "print(classify_abundance(28))"
   ]
  },
  {
   "cell_type": "markdown",
   "id": "8c8bee83",
   "metadata": {},
   "source": [
    "First I will try the brute force approach. I will find every abundant number up to 28123, then find every possible combination of summing 2 numbers, then simply find all the numbers that are not in this list."
   ]
  },
  {
   "cell_type": "code",
   "execution_count": 4,
   "id": "a2aefde3",
   "metadata": {},
   "outputs": [
    {
     "name": "stdout",
     "output_type": "stream",
     "text": [
      "6965\n"
     ]
    }
   ],
   "source": [
    "abundant_numbers = []\n",
    "\n",
    "for i in range(1,28124):\n",
    "    if classify_abundance(i):\n",
    "        abundant_numbers.append(i)\n",
    "\n",
    "print(len(abundant_numbers))        "
   ]
  },
  {
   "cell_type": "code",
   "execution_count": 5,
   "id": "552fbc43",
   "metadata": {},
   "outputs": [],
   "source": [
    "sums = []\n",
    "\n",
    "for i in abundant_numbers:\n",
    "    for j in abundant_numbers:\n",
    "        sums.append(i+j)"
   ]
  },
  {
   "cell_type": "markdown",
   "id": "83bfd3e7",
   "metadata": {},
   "source": [
    "Convert the list to a set then back to a list to remove duplicates:"
   ]
  },
  {
   "cell_type": "code",
   "execution_count": 6,
   "id": "a1d0d3c4",
   "metadata": {},
   "outputs": [
    {
     "name": "stdout",
     "output_type": "stream",
     "text": [
      "48511225\n",
      "53871\n"
     ]
    }
   ],
   "source": [
    "print(len(sums))\n",
    "sums = list(set(sums))\n",
    "print(len(sums))"
   ]
  },
  {
   "cell_type": "code",
   "execution_count": null,
   "id": "69cd59dc",
   "metadata": {},
   "outputs": [],
   "source": [
    "answer = 0\n",
    "\n",
    "for i in range(1,28124):\n",
    "    if i not in sums:\n",
    "        answer += i\n",
    "        \n",
    "print(answer)"
   ]
  }
 ],
 "metadata": {
  "kernelspec": {
   "display_name": "Python 3 (ipykernel)",
   "language": "python",
   "name": "python3"
  },
  "language_info": {
   "codemirror_mode": {
    "name": "ipython",
    "version": 3
   },
   "file_extension": ".py",
   "mimetype": "text/x-python",
   "name": "python",
   "nbconvert_exporter": "python",
   "pygments_lexer": "ipython3",
   "version": "3.9.12"
  }
 },
 "nbformat": 4,
 "nbformat_minor": 5
}
