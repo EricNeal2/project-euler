{
 "cells": [
  {
   "cell_type": "markdown",
   "id": "fd2b9b39",
   "metadata": {},
   "source": [
    "## [Problem 7](https://projecteuler.net/problem=7): 10001st prime\n",
    "\n",
    "By listing the first six prime numbers: 2, 3, 5, 7, 11, and 13, we can see that the 6th prime is 13.\n",
    "\n",
    "What is the 10 001st prime number?"
   ]
  },
  {
   "cell_type": "code",
   "execution_count": 2,
   "id": "dc003e2e",
   "metadata": {},
   "outputs": [],
   "source": [
    "from helpers import is_prime"
   ]
  },
  {
   "cell_type": "code",
   "execution_count": 10,
   "id": "aa60456e",
   "metadata": {},
   "outputs": [
    {
     "name": "stdout",
     "output_type": "stream",
     "text": [
      "104743\n",
      "CPU times: total: 2.02 s\n",
      "Wall time: 2.07 s\n"
     ]
    }
   ],
   "source": [
    "%%time\n",
    "n_prime = 0  # number of primes found\n",
    "i = 2 # number to check\n",
    "\n",
    "while n_prime < 10001:\n",
    "    if is_prime(i):\n",
    "        n_prime += 1\n",
    "    i += 1\n",
    "    \n",
    "print(i-1) # because we updated i at the end of the loop even when it shouldn't have been updated"
   ]
  }
 ],
 "metadata": {
  "kernelspec": {
   "display_name": "Python 3 (ipykernel)",
   "language": "python",
   "name": "python3"
  },
  "language_info": {
   "codemirror_mode": {
    "name": "ipython",
    "version": 3
   },
   "file_extension": ".py",
   "mimetype": "text/x-python",
   "name": "python",
   "nbconvert_exporter": "python",
   "pygments_lexer": "ipython3",
   "version": "3.9.12"
  }
 },
 "nbformat": 4,
 "nbformat_minor": 5
}
