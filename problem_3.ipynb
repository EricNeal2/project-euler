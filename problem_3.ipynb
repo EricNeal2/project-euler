{
 "cells": [
  {
   "cell_type": "markdown",
   "id": "5b5029ba",
   "metadata": {},
   "source": [
    "## [Problem 3](https://projecteuler.net/problem=3): Largest prime factor\n",
    "\n",
    "The prime factors of 13195 are 5, 7, 13 and 29.\n",
    "\n",
    "What is the largest prime factor of the number 600851475143 ?"
   ]
  },
  {
   "cell_type": "code",
   "execution_count": 6,
   "id": "957f238b",
   "metadata": {},
   "outputs": [],
   "source": [
    "# created 2 new functions in helpers.py (is_prime and get_factors)\n",
    "from helpers import is_prime, get_factors"
   ]
  },
  {
   "cell_type": "code",
   "execution_count": 7,
   "id": "145df2fe",
   "metadata": {},
   "outputs": [
    {
     "name": "stdout",
     "output_type": "stream",
     "text": [
      "6857\n"
     ]
    }
   ],
   "source": [
    "max_prime_factor = 0\n",
    "\n",
    "for factor in get_factors(600851475143):\n",
    "    if is_prime(factor) and factor > max_prime_factor:\n",
    "        max_prime_factor = factor\n",
    "        \n",
    "print(max_prime_factor)"
   ]
  }
 ],
 "metadata": {
  "kernelspec": {
   "display_name": "Python 3 (ipykernel)",
   "language": "python",
   "name": "python3"
  },
  "language_info": {
   "codemirror_mode": {
    "name": "ipython",
    "version": 3
   },
   "file_extension": ".py",
   "mimetype": "text/x-python",
   "name": "python",
   "nbconvert_exporter": "python",
   "pygments_lexer": "ipython3",
   "version": "3.9.12"
  }
 },
 "nbformat": 4,
 "nbformat_minor": 5
}
