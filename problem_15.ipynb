{
 "cells": [
  {
   "attachments": {
    "p015.png": {
     "image/png": "[encoded data removed]"
    }
   },
   "cell_type": "markdown",
   "id": "93cb17a8",
   "metadata": {},
   "source": [
    "# [Problem 15](https://projecteuler.net/problem=15): Lattice paths\n",
    "\n",
    "Starting in the top left corner of a 2×2 grid, and only being able to move to the right and down, there are exactly 6 routes to the bottom right corner.\n",
    "\n",
    "![p015.png](attachment:p015.png)\n",
    "\n",
    "How many such routes are there through a 20×20 grid?"
   ]
  },
  {
   "cell_type": "markdown",
   "id": "3a8491ee",
   "metadata": {},
   "source": [
    "This problem is a lot like Pascal's triangle! For example, for the 2x2 grid the answer 6 is the center number of Pascal's triangle at level 5. I expect the answer to this problem will be the enter number of Pascal's triangle at level 41."
   ]
  },
  {
   "cell_type": "code",
   "execution_count": 1,
   "id": "3a0e0141",
   "metadata": {},
   "outputs": [],
   "source": [
    "import numpy as np"
   ]
  },
  {
   "cell_type": "markdown",
   "id": "04a4bc53",
   "metadata": {},
   "source": [
    "The number of unique paths leading to a point on the grid is the sum of the number of paths leading to the point above and the number of paths leading to the point to the left. I can write a recursive function to calculate this for me:"
   ]
  },
  {
   "cell_type": "code",
   "execution_count": 2,
   "id": "082f6e3f",
   "metadata": {},
   "outputs": [],
   "source": [
    "def paths_to_point(row,col):\n",
    "    ''' Computes the number of individual paths that lead to a point on the grid'''\n",
    "    \n",
    "    # if we are in the top left of the grid, there is only one way to get here\n",
    "    if row == 0 and col == 0:\n",
    "        return 1\n",
    "    \n",
    "    # if we are at the top of the grid, the number of paths equals the number of paths leading the the point to the left\n",
    "    elif row == 0:\n",
    "        return paths_to_point(row, col-1)\n",
    "    \n",
    "    # if we are at the left of the grid, the number of paths equals the number of paths leading to the point above\n",
    "    elif col == 0:\n",
    "        return paths_to_point(row-1, col)\n",
    "    \n",
    "    # if we are elsewhere, the the number of paths equals the sum of the number of paths to the point above and the point to the left\n",
    "    else:\n",
    "        return paths_to_point(row, col-1) + paths_to_point(row-1, col)"
   ]
  },
  {
   "cell_type": "code",
   "execution_count": 3,
   "id": "8073d7e3",
   "metadata": {},
   "outputs": [
    {
     "name": "stdout",
     "output_type": "stream",
     "text": [
      "6\n"
     ]
    }
   ],
   "source": [
    "print(paths_to_point(2,2))"
   ]
  },
  {
   "cell_type": "code",
   "execution_count": 4,
   "id": "d0ccbbef",
   "metadata": {},
   "outputs": [
    {
     "name": "stdout",
     "output_type": "stream",
     "text": [
      "2704156\n",
      "CPU times: total: 11.1 s\n",
      "Wall time: 11.3 s\n"
     ]
    }
   ],
   "source": [
    "%%time\n",
    "print(paths_to_point(12,12))"
   ]
  },
  {
   "cell_type": "markdown",
   "id": "768b82fc",
   "metadata": {},
   "source": [
    "Unfortunately this recursive method takes too long for a grid of size 20. I will modify the function so that it stores values that are already computed in a grid, to avoid having to constantly redo calculations."
   ]
  },
  {
   "cell_type": "code",
   "execution_count": 5,
   "id": "caebbca2",
   "metadata": {},
   "outputs": [],
   "source": [
    "def paths_to_point_2(row,col,grid):\n",
    "    ''' Computes the number of individual paths that lead to a point on the grid'''\n",
    "    \n",
    "    if grid[row][col] != 0:\n",
    "        return grid[row][col]\n",
    "    \n",
    "    # if we are in the top left of the grid, there is only one way to get here\n",
    "    if row == 0 and col == 0:\n",
    "        grid[row][col] = 1\n",
    "        return 1\n",
    "    \n",
    "    # if we are at the top of the grid, the number of paths equals the number of paths leading the the point to the left\n",
    "    elif row == 0:\n",
    "        grid[row][col] = paths_to_point_2(row, col-1,grid)\n",
    "        return paths_to_point_2(row, col-1,grid)\n",
    "    \n",
    "    # if we are at the left of the grid, the number of paths equals the number of paths leading to the point above\n",
    "    elif col == 0:\n",
    "        grid[row][col] = paths_to_point_2(row-1, col,grid)\n",
    "        return paths_to_point_2(row-1, col,grid)\n",
    "    \n",
    "    # if we are elsewhere, the the number of paths equals the sum of the number of paths to the point above and the point to the left\n",
    "    else:\n",
    "        grid[row][col] = paths_to_point_2(row, col-1,grid) + paths_to_point_2(row-1, col,grid)\n",
    "        return paths_to_point_2(row, col-1,grid) + paths_to_point_2(row-1, col,grid)"
   ]
  },
  {
   "cell_type": "code",
   "execution_count": 6,
   "id": "5166335b",
   "metadata": {
    "scrolled": false
   },
   "outputs": [],
   "source": [
    "def compute_paths(n):\n",
    "    '''Computes the number of paths across a grid of size n'''\n",
    "    grid = np.zeros((n+1,n+1))\n",
    "    return paths_to_point_2(n,n,grid)"
   ]
  },
  {
   "cell_type": "code",
   "execution_count": 7,
   "id": "ea0f5a53",
   "metadata": {},
   "outputs": [
    {
     "name": "stdout",
     "output_type": "stream",
     "text": [
      "6.0\n",
      "137846528820.0\n"
     ]
    }
   ],
   "source": [
    "print(compute_paths(2))\n",
    "print(compute_paths(20))"
   ]
  },
  {
   "cell_type": "markdown",
   "id": "8fc3473f",
   "metadata": {},
   "source": [
    "This is the correct answer. Finally, I will re-write the function slightly differently. This way it is not recursive, but it builds up the grid of values (Pascal's triangle) from the top left."
   ]
  },
  {
   "cell_type": "code",
   "execution_count": 8,
   "id": "b75878b1",
   "metadata": {},
   "outputs": [],
   "source": [
    "def compute_paths_2(n):\n",
    "\n",
    "    grid = np.zeros((n+1,n+1))\n",
    "\n",
    "    for i in range(len(grid)):\n",
    "        for j in range(len(grid)):\n",
    "            \n",
    "            # top left\n",
    "            if i == 0 and j == 0:\n",
    "                grid[i][j] = 1\n",
    "                \n",
    "            # top row\n",
    "            elif i == 0:\n",
    "                grid[i][j] = grid[i][j-1]\n",
    "            \n",
    "            # left column\n",
    "            elif j == 0:\n",
    "                grid[i][j] = grid[i-1][j]\n",
    "\n",
    "            else:\n",
    "                grid[i][j] = grid[i][j-1] + grid[i-1][j]\n",
    "\n",
    "    return grid[n][n]"
   ]
  },
  {
   "cell_type": "code",
   "execution_count": 9,
   "id": "392fdc62",
   "metadata": {},
   "outputs": [
    {
     "name": "stdout",
     "output_type": "stream",
     "text": [
      "6.0\n",
      "137846528820.0\n"
     ]
    }
   ],
   "source": [
    "print(compute_paths_2(2))\n",
    "print(compute_paths_2(20))"
   ]
  },
  {
   "cell_type": "markdown",
   "id": "aec2c797",
   "metadata": {},
   "source": [
    "I am curious which is faster:"
   ]
  },
  {
   "cell_type": "code",
   "execution_count": 10,
   "id": "1c3dd001",
   "metadata": {},
   "outputs": [
    {
     "name": "stdout",
     "output_type": "stream",
     "text": [
      "2.702882409454366e+299\n",
      "CPU times: total: 4.3 s\n",
      "Wall time: 4.37 s\n"
     ]
    }
   ],
   "source": [
    "%%time\n",
    "print(compute_paths(500))"
   ]
  },
  {
   "cell_type": "code",
   "execution_count": 11,
   "id": "fe5b2193",
   "metadata": {},
   "outputs": [
    {
     "name": "stdout",
     "output_type": "stream",
     "text": [
      "2.702882409454366e+299\n",
      "CPU times: total: 1.5 s\n",
      "Wall time: 1.53 s\n"
     ]
    }
   ],
   "source": [
    "%%time\n",
    "print(compute_paths_2(500))"
   ]
  },
  {
   "cell_type": "markdown",
   "id": "9a361e6c",
   "metadata": {},
   "source": [
    "The non-recursive function is quicker. I think the recursive function was pretty inefficient, there were some unecessary calculations."
   ]
  }
 ],
 "metadata": {
  "kernelspec": {
   "display_name": "Python 3 (ipykernel)",
   "language": "python",
   "name": "python3"
  },
  "language_info": {
   "codemirror_mode": {
    "name": "ipython",
    "version": 3
   },
   "file_extension": ".py",
   "mimetype": "text/x-python",
   "name": "python",
   "nbconvert_exporter": "python",
   "pygments_lexer": "ipython3",
   "version": "3.9.12"
  }
 },
 "nbformat": 4,
 "nbformat_minor": 5
}
