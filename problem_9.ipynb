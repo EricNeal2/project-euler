{
 "cells": [
  {
   "cell_type": "markdown",
   "id": "59d7e187",
   "metadata": {},
   "source": [
    "## [Problem 9](https://projecteuler.net/problem=9): Special Pythagorean triplet\n",
    "\n",
    "A Pythagorean triplet is a set of three natural numbers, a < b < c, for which,\n",
    "\n",
    "a<sup>2</sup> + b<sup>2</sup> = c<sup>2</sup>\n",
    "\n",
    "For example, 3<sup>2</sup> + 4<sup>2</sup> = 9 + 16 = 25 = 5<sup>2</sup>.\n",
    "\n",
    "There exists exactly one Pythagorean triplet for which a + b + c = 1000.\n",
    "Find the product abc."
   ]
  },
  {
   "cell_type": "code",
   "execution_count": 1,
   "id": "bf78f702",
   "metadata": {},
   "outputs": [],
   "source": [
    "import numpy as np"
   ]
  },
  {
   "cell_type": "markdown",
   "id": "e03d48ba",
   "metadata": {},
   "source": [
    "First, by brute force:"
   ]
  },
  {
   "cell_type": "code",
   "execution_count": 2,
   "id": "898a5f28",
   "metadata": {},
   "outputs": [
    {
     "name": "stdout",
     "output_type": "stream",
     "text": [
      "200 375 425.0\n",
      "1000.0\n",
      "31875000.0\n",
      "CPU times: total: 9.05 s\n",
      "Wall time: 9.37 s\n"
     ]
    }
   ],
   "source": [
    "%%time\n",
    "\n",
    "for a in range(1000):\n",
    "    for b in range(1000):\n",
    "        c = np.sqrt(a**2 + b**2)\n",
    "        if a < b < c and a + b + c == 1000:\n",
    "            print(a,b,c)\n",
    "            print(a+b+c)\n",
    "            print(a*b*c)"
   ]
  },
  {
   "cell_type": "markdown",
   "id": "d0792c03",
   "metadata": {},
   "source": [
    "I can improve the speed slightly with the fact that no single side of a triangle may make up more than half of the perimeter, so so side can be longer than 500.\n",
    "\n",
    "I will also modify the code so that the loop for `b` just starts at a + 1, since it needs to be greater than a. This also means I can remove the condition that checks if a < b < c."
   ]
  },
  {
   "cell_type": "code",
   "execution_count": 3,
   "id": "90d4b21a",
   "metadata": {},
   "outputs": [
    {
     "name": "stdout",
     "output_type": "stream",
     "text": [
      "200 375 425.0\n",
      "1000.0\n",
      "31875000.0\n",
      "CPU times: total: 453 ms\n",
      "Wall time: 453 ms\n"
     ]
    }
   ],
   "source": [
    "%%time\n",
    "import numpy as np\n",
    "\n",
    "for a in range(1, 501):\n",
    "    for b in range(a+1, 501):\n",
    "        c = np.sqrt(a**2 + b**2)\n",
    "        if a + b + c == 1000:\n",
    "            print(a,b, c)\n",
    "            print(a+b+c)\n",
    "            print(a*b*c)"
   ]
  }
 ],
 "metadata": {
  "kernelspec": {
   "display_name": "Python 3 (ipykernel)",
   "language": "python",
   "name": "python3"
  },
  "language_info": {
   "codemirror_mode": {
    "name": "ipython",
    "version": 3
   },
   "file_extension": ".py",
   "mimetype": "text/x-python",
   "name": "python",
   "nbconvert_exporter": "python",
   "pygments_lexer": "ipython3",
   "version": "3.9.12"
  }
 },
 "nbformat": 4,
 "nbformat_minor": 5
}
