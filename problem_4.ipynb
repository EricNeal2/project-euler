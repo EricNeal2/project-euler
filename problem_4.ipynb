{
 "cells": [
  {
   "cell_type": "markdown",
   "id": "ebfbb7d3",
   "metadata": {},
   "source": [
    "## [Problem 4](https://projecteuler.net/problem=4) - Largest palindrome product\n",
    "\n",
    "A palindromic number reads the same both ways. The largest palindrome made from the product of two 2-digit numbers is 9009 = 91 × 99.\n",
    "\n",
    "Find the largest palindrome made from the product of two 3-digit numbers."
   ]
  },
  {
   "cell_type": "code",
   "execution_count": 7,
   "id": "ecca4eac",
   "metadata": {},
   "outputs": [
    {
     "name": "stdout",
     "output_type": "stream",
     "text": [
      "False\n",
      "False\n",
      "True\n",
      "True\n",
      "True\n"
     ]
    }
   ],
   "source": [
    "def is_palindrome(num):\n",
    "    \"\"\" Determine if a whole number is a palindromic number\"\"\"\n",
    "    return str(num) == str(num)[::-1]\n",
    "\n",
    "print(is_palindrome(1234))\n",
    "print(is_palindrome(82523564))\n",
    "print(is_palindrome(88888))\n",
    "print(is_palindrome(12921))\n",
    "print(is_palindrome(2183003812))"
   ]
  },
  {
   "cell_type": "code",
   "execution_count": 24,
   "id": "b93714fb",
   "metadata": {},
   "outputs": [
    {
     "name": "stdout",
     "output_type": "stream",
     "text": [
      "906609\n"
     ]
    }
   ],
   "source": [
    "# create a list of all products of 3 digit numbers\n",
    "products = []\n",
    "for i in range(1,1000):\n",
    "    for j in range(1,1000):\n",
    "        products.append(i*j)\n",
    "        \n",
    "# sort the list in descending order\n",
    "products.sort(reverse=True)\n",
    "\n",
    "# loop through the products of 3 digit numbers\n",
    "for product in products:\n",
    "    # when we encounter the first palindrome, print it and stop the loop\n",
    "    if is_palindrome(product):\n",
    "        print(product)\n",
    "        break"
   ]
  }
 ],
 "metadata": {
  "kernelspec": {
   "display_name": "Python 3 (ipykernel)",
   "language": "python",
   "name": "python3"
  },
  "language_info": {
   "codemirror_mode": {
    "name": "ipython",
    "version": 3
   },
   "file_extension": ".py",
   "mimetype": "text/x-python",
   "name": "python",
   "nbconvert_exporter": "python",
   "pygments_lexer": "ipython3",
   "version": "3.9.12"
  }
 },
 "nbformat": 4,
 "nbformat_minor": 5
}
